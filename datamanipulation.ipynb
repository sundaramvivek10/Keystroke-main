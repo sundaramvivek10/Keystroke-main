{
 "cells": [
  {
   "cell_type": "code",
   "execution_count": 4,
   "metadata": {},
   "outputs": [],
   "source": [
    "#Import the necessary packages\n",
    "import pandas as pd\n",
    "from sklearn.ensemble import RandomForestClassifier\n",
    "from sklearn import svm\n",
    "from xgboost import XGBClassifier\n",
    "import pickle"
   ]
  },
  {
   "attachments": {},
   "cell_type": "markdown",
   "metadata": {},
   "source": [
    "Setting initial variables"
   ]
  },
  {
   "cell_type": "code",
   "execution_count": 5,
   "metadata": {},
   "outputs": [],
   "source": [
    "df = pd.read_csv(\"Train_keystroke.csv\")\n",
    "\n",
    "#Initialize empty dataframes that will be filled\n",
    "HT = pd.DataFrame()\n",
    "PPT = pd.DataFrame()\n",
    "RRT = pd.DataFrame()\n",
    "RPT = pd.DataFrame()"
   ]
  },
  {
   "cell_type": "code",
   "execution_count": 6,
   "metadata": {},
   "outputs": [
    {
     "data": {
      "text/html": [
       "<div>\n",
       "<style scoped>\n",
       "    .dataframe tbody tr th:only-of-type {\n",
       "        vertical-align: middle;\n",
       "    }\n",
       "\n",
       "    .dataframe tbody tr th {\n",
       "        vertical-align: top;\n",
       "    }\n",
       "\n",
       "    .dataframe thead th {\n",
       "        text-align: right;\n",
       "    }\n",
       "</style>\n",
       "<table border=\"1\" class=\"dataframe\">\n",
       "  <thead>\n",
       "    <tr style=\"text-align: right;\">\n",
       "      <th></th>\n",
       "      <th>HT Mean</th>\n",
       "      <th>HT Std</th>\n",
       "      <th>PPT Mean</th>\n",
       "      <th>PPT Std</th>\n",
       "      <th>RRT Mean</th>\n",
       "      <th>RRT Std</th>\n",
       "      <th>RPT Mean</th>\n",
       "      <th>RPT Std</th>\n",
       "    </tr>\n",
       "  </thead>\n",
       "  <tbody>\n",
       "    <tr>\n",
       "      <th>0</th>\n",
       "      <td>72.000000</td>\n",
       "      <td>21.908902</td>\n",
       "      <td>229.333333</td>\n",
       "      <td>63.115094</td>\n",
       "      <td>225.333333</td>\n",
       "      <td>73.069498</td>\n",
       "      <td>157.333333</td>\n",
       "      <td>67.910815</td>\n",
       "    </tr>\n",
       "    <tr>\n",
       "      <th>1</th>\n",
       "      <td>70.384615</td>\n",
       "      <td>17.523976</td>\n",
       "      <td>185.916667</td>\n",
       "      <td>36.412931</td>\n",
       "      <td>182.000000</td>\n",
       "      <td>40.174619</td>\n",
       "      <td>113.666667</td>\n",
       "      <td>46.529235</td>\n",
       "    </tr>\n",
       "    <tr>\n",
       "      <th>2</th>\n",
       "      <td>80.307692</td>\n",
       "      <td>17.172578</td>\n",
       "      <td>239.250000</td>\n",
       "      <td>136.361235</td>\n",
       "      <td>237.916667</td>\n",
       "      <td>145.322499</td>\n",
       "      <td>156.833333</td>\n",
       "      <td>133.531633</td>\n",
       "    </tr>\n",
       "    <tr>\n",
       "      <th>3</th>\n",
       "      <td>72.000000</td>\n",
       "      <td>21.205345</td>\n",
       "      <td>331.916667</td>\n",
       "      <td>368.330498</td>\n",
       "      <td>330.000000</td>\n",
       "      <td>353.436377</td>\n",
       "      <td>259.916667</td>\n",
       "      <td>362.565720</td>\n",
       "    </tr>\n",
       "    <tr>\n",
       "      <th>4</th>\n",
       "      <td>74.769231</td>\n",
       "      <td>13.869354</td>\n",
       "      <td>173.833333</td>\n",
       "      <td>47.510445</td>\n",
       "      <td>176.000000</td>\n",
       "      <td>39.874804</td>\n",
       "      <td>100.833333</td>\n",
       "      <td>47.613660</td>\n",
       "    </tr>\n",
       "  </tbody>\n",
       "</table>\n",
       "</div>"
      ],
      "text/plain": [
       "     HT Mean     HT Std    PPT Mean     PPT Std    RRT Mean     RRT Std  \\\n",
       "0  72.000000  21.908902  229.333333   63.115094  225.333333   73.069498   \n",
       "1  70.384615  17.523976  185.916667   36.412931  182.000000   40.174619   \n",
       "2  80.307692  17.172578  239.250000  136.361235  237.916667  145.322499   \n",
       "3  72.000000  21.205345  331.916667  368.330498  330.000000  353.436377   \n",
       "4  74.769231  13.869354  173.833333   47.510445  176.000000   39.874804   \n",
       "\n",
       "     RPT Mean     RPT Std  \n",
       "0  157.333333   67.910815  \n",
       "1  113.666667   46.529235  \n",
       "2  156.833333  133.531633  \n",
       "3  259.916667  362.565720  \n",
       "4  100.833333   47.613660  "
      ]
     },
     "execution_count": 6,
     "metadata": {},
     "output_type": "execute_result"
    }
   ],
   "source": [
    "#Fill the empty dataframes\n",
    "for i in range(1,27,2):\n",
    "    HT[int((i-1)/2)] = df.iloc[:,i+1] - df.iloc[:,i]   \n",
    "for i in range(1,25,2):\n",
    "    PPT[int((i-1)/2)] = df.iloc[:,i+2] - df.iloc[:,i]\n",
    "    RPT[int((i-1)/2)] = df.iloc[:,i+2] - df.iloc[:,i+1]\n",
    "    RRT[int((i-1)/2)] = df.iloc[:,i+3] - df.iloc[:,i+1]\n",
    "\n",
    "#dataframe consisting mean and std deviation\n",
    "MeanStdData = pd.DataFrame({'User ID' : df.user, 'HT Mean' : HT.mean(axis=1), 'HT Std' : HT.std(axis=1),\n",
    "                            'PPT Mean' : PPT.mean(axis=1), 'PPT Std' : PPT.std(axis=1),\n",
    "                            'RRT Mean' : RRT.mean(axis=1), 'RRT Std' : RRT.std(axis=1),\n",
    "                            'RPT Mean' : RPT.mean(axis=1), 'RPT Std' : RPT.std(axis=1)})\n",
    "\n",
    "# Split your data into features (X) and target (y)\n",
    "X = MeanStdData.drop([\"User ID\"], axis=1)\n",
    "y = MeanStdData[\"User ID\"]\n",
    "X.head()"
   ]
  },
  {
   "attachments": {},
   "cell_type": "markdown",
   "metadata": {},
   "source": [
    "Building and saving the vanilla models from here"
   ]
  },
  {
   "cell_type": "code",
   "execution_count": 8,
   "metadata": {},
   "outputs": [],
   "source": [
    "# Initialize and fit the models\n",
    "rf = RandomForestClassifier(n_estimators=100, random_state=0)\n",
    "rf.fit(X, y)\n",
    "\n",
    "sv = svm.SVC(kernel=\"linear\", C=1, probability=True)\n",
    "sv.fit(X, y)\n",
    "\n",
    "xgbc = XGBClassifier()\n",
    "xgbc.fit(X.values, y.values-1)\n",
    "\n",
    "# Save the models to a pickle files\n",
    "pickle.dump(rf, open(\"rf.pkl\", \"wb\"))\n",
    "pickle.dump(sv, open(\"svm.pkl\", 'wb'))\n",
    "pickle.dump(xgbc, open(\"xgb.pkl\", \"wb\"))\n"
   ]
  }
 ],
 "metadata": {
  "kernelspec": {
   "display_name": "Python 3",
   "language": "python",
   "name": "python3"
  },
  "language_info": {
   "codemirror_mode": {
    "name": "ipython",
    "version": 3
   },
   "file_extension": ".py",
   "mimetype": "text/x-python",
   "name": "python",
   "nbconvert_exporter": "python",
   "pygments_lexer": "ipython3",
   "version": "3.10.6"
  },
  "orig_nbformat": 4,
  "vscode": {
   "interpreter": {
    "hash": "31f2aee4e71d21fbe5cf8b01ff0e069b9275f58929596ceb00d14d90e3e16cd6"
   }
  }
 },
 "nbformat": 4,
 "nbformat_minor": 2
}
