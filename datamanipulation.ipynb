{
 "cells": [
  {
   "cell_type": "code",
   "execution_count": null,
   "metadata": {},
   "outputs": [],
   "source": [
    "import pandas as pd"
   ]
  },
  {
   "attachments": {},
   "cell_type": "markdown",
   "metadata": {},
   "source": [
    "Setting initial variables"
   ]
  },
  {
   "cell_type": "code",
   "execution_count": null,
   "metadata": {},
   "outputs": [],
   "source": [
    "df = pd.read_csv(\"Train_keystroke.csv\")\n",
    "HT = pd.DataFrame()\n",
    "PPT = pd.DataFrame()\n",
    "RRT = pd.DataFrame()\n",
    "RPT = pd.DataFrame()"
   ]
  },
  {
   "attachments": {},
   "cell_type": "markdown",
   "metadata": {},
   "source": [
    "Writing the final data to the new data file"
   ]
  },
  {
   "cell_type": "code",
   "execution_count": null,
   "metadata": {},
   "outputs": [],
   "source": [
    "for i in range(1,27,2):\n",
    "    HT[int((i-1)/2)] = df.iloc[:,i+1] - df.iloc[:,i]   \n",
    "for i in range(1,25,2):\n",
    "    PPT[int((i-1)/2)] = df.iloc[:,i+2] - df.iloc[:,i]\n",
    "    RPT[int((i-1)/2)] = df.iloc[:,i+2] - df.iloc[:,i+1]\n",
    "    RRT[int((i-1)/2)] = df.iloc[:,i+3] - df.iloc[:,i+1]\n",
    "\n",
    "MeanStdData = pd.DataFrame({'User ID' : df.user, 'HT Mean' : HT.mean(axis=1), 'HT Std' : HT.std(axis=1),\n",
    "                            'PPT Mean' : PPT.mean(axis=1), 'PPT Std' : PPT.std(axis=1),\n",
    "                            'RRT Mean' : RRT.mean(axis=1), 'RRT Std' : RRT.std(axis=1),\n",
    "                            'RPT Mean' : RPT.mean(axis=1), 'RPT Std' : RPT.std(axis=1)})\n",
    "MeanStdData.to_csv('AvgStdData.csv')\n",
    "MeanStdData.head()"
   ]
  },
  {
   "attachments": {},
   "cell_type": "markdown",
   "metadata": {},
   "source": [
    "Models will be built in separate files"
   ]
  }
 ],
 "metadata": {
  "kernelspec": {
   "display_name": "Python 3",
   "language": "python",
   "name": "python3"
  },
  "language_info": {
   "codemirror_mode": {
    "name": "ipython",
    "version": 3
   },
   "file_extension": ".py",
   "mimetype": "text/x-python",
   "name": "python",
   "nbconvert_exporter": "python",
   "pygments_lexer": "ipython3",
   "version": "3.9.5"
  },
  "orig_nbformat": 4,
  "vscode": {
   "interpreter": {
    "hash": "8a404eaf488fa2dd9dbc15d16d052031f6665815d2ffd8b8d2a074501d0e2749"
   }
  }
 },
 "nbformat": 4,
 "nbformat_minor": 2
}
