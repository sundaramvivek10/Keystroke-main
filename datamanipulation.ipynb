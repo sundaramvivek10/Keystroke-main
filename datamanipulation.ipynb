{
 "cells": [
  {
   "cell_type": "code",
   "execution_count": 1,
   "metadata": {},
   "outputs": [],
   "source": [
    "import pandas as pd"
   ]
  },
  {
   "attachments": {},
   "cell_type": "markdown",
   "metadata": {},
   "source": [
    "Setting initial variables"
   ]
  },
  {
   "cell_type": "code",
   "execution_count": 2,
   "metadata": {},
   "outputs": [],
   "source": [
    "df = pd.read_csv(\"Train_keystroke.csv\")\n",
    "HT = pd.DataFrame()\n",
    "PPT = pd.DataFrame()\n",
    "RRT = pd.DataFrame()\n",
    "RPT = pd.DataFrame()"
   ]
  },
  {
   "attachments": {},
   "cell_type": "markdown",
   "metadata": {},
   "source": [
    "Writing the final data to the new data file"
   ]
  },
  {
   "cell_type": "code",
   "execution_count": 3,
   "metadata": {},
   "outputs": [
    {
     "data": {
      "text/html": [
       "<div>\n",
       "<style scoped>\n",
       "    .dataframe tbody tr th:only-of-type {\n",
       "        vertical-align: middle;\n",
       "    }\n",
       "\n",
       "    .dataframe tbody tr th {\n",
       "        vertical-align: top;\n",
       "    }\n",
       "\n",
       "    .dataframe thead th {\n",
       "        text-align: right;\n",
       "    }\n",
       "</style>\n",
       "<table border=\"1\" class=\"dataframe\">\n",
       "  <thead>\n",
       "    <tr style=\"text-align: right;\">\n",
       "      <th></th>\n",
       "      <th>User ID</th>\n",
       "      <th>HT Mean</th>\n",
       "      <th>HT Std</th>\n",
       "      <th>PPT Mean</th>\n",
       "      <th>PPT Std</th>\n",
       "      <th>RRT Mean</th>\n",
       "      <th>RRT Std</th>\n",
       "      <th>RPT Mean</th>\n",
       "      <th>RPT Std</th>\n",
       "    </tr>\n",
       "  </thead>\n",
       "  <tbody>\n",
       "    <tr>\n",
       "      <th>0</th>\n",
       "      <td>1</td>\n",
       "      <td>72.000000</td>\n",
       "      <td>21.908902</td>\n",
       "      <td>229.333333</td>\n",
       "      <td>63.115094</td>\n",
       "      <td>225.333333</td>\n",
       "      <td>73.069498</td>\n",
       "      <td>157.333333</td>\n",
       "      <td>67.910815</td>\n",
       "    </tr>\n",
       "    <tr>\n",
       "      <th>1</th>\n",
       "      <td>1</td>\n",
       "      <td>70.384615</td>\n",
       "      <td>17.523976</td>\n",
       "      <td>185.916667</td>\n",
       "      <td>36.412931</td>\n",
       "      <td>182.000000</td>\n",
       "      <td>40.174619</td>\n",
       "      <td>113.666667</td>\n",
       "      <td>46.529235</td>\n",
       "    </tr>\n",
       "    <tr>\n",
       "      <th>2</th>\n",
       "      <td>1</td>\n",
       "      <td>80.307692</td>\n",
       "      <td>17.172578</td>\n",
       "      <td>239.250000</td>\n",
       "      <td>136.361235</td>\n",
       "      <td>237.916667</td>\n",
       "      <td>145.322499</td>\n",
       "      <td>156.833333</td>\n",
       "      <td>133.531633</td>\n",
       "    </tr>\n",
       "    <tr>\n",
       "      <th>3</th>\n",
       "      <td>1</td>\n",
       "      <td>72.000000</td>\n",
       "      <td>21.205345</td>\n",
       "      <td>331.916667</td>\n",
       "      <td>368.330498</td>\n",
       "      <td>330.000000</td>\n",
       "      <td>353.436377</td>\n",
       "      <td>259.916667</td>\n",
       "      <td>362.565720</td>\n",
       "    </tr>\n",
       "    <tr>\n",
       "      <th>4</th>\n",
       "      <td>1</td>\n",
       "      <td>74.769231</td>\n",
       "      <td>13.869354</td>\n",
       "      <td>173.833333</td>\n",
       "      <td>47.510445</td>\n",
       "      <td>176.000000</td>\n",
       "      <td>39.874804</td>\n",
       "      <td>100.833333</td>\n",
       "      <td>47.613660</td>\n",
       "    </tr>\n",
       "  </tbody>\n",
       "</table>\n",
       "</div>"
      ],
      "text/plain": [
       "   User ID    HT Mean     HT Std    PPT Mean     PPT Std    RRT Mean  \\\n",
       "0        1  72.000000  21.908902  229.333333   63.115094  225.333333   \n",
       "1        1  70.384615  17.523976  185.916667   36.412931  182.000000   \n",
       "2        1  80.307692  17.172578  239.250000  136.361235  237.916667   \n",
       "3        1  72.000000  21.205345  331.916667  368.330498  330.000000   \n",
       "4        1  74.769231  13.869354  173.833333   47.510445  176.000000   \n",
       "\n",
       "      RRT Std    RPT Mean     RPT Std  \n",
       "0   73.069498  157.333333   67.910815  \n",
       "1   40.174619  113.666667   46.529235  \n",
       "2  145.322499  156.833333  133.531633  \n",
       "3  353.436377  259.916667  362.565720  \n",
       "4   39.874804  100.833333   47.613660  "
      ]
     },
     "execution_count": 3,
     "metadata": {},
     "output_type": "execute_result"
    }
   ],
   "source": [
    "for i in range(1,27,2):\n",
    "    HT[int((i-1)/2)] = df.iloc[:,i+1] - df.iloc[:,i]   \n",
    "for i in range(1,25,2):\n",
    "    PPT[int((i-1)/2)] = df.iloc[:,i+2] - df.iloc[:,i]\n",
    "    RPT[int((i-1)/2)] = df.iloc[:,i+2] - df.iloc[:,i+1]\n",
    "    RRT[int((i-1)/2)] = df.iloc[:,i+3] - df.iloc[:,i+1]\n",
    "\n",
    "MeanStdData = pd.DataFrame({'User ID' : df.user, 'HT Mean' : HT.mean(axis=1), 'HT Std' : HT.std(axis=1),\n",
    "                            'PPT Mean' : PPT.mean(axis=1), 'PPT Std' : PPT.std(axis=1),\n",
    "                            'RRT Mean' : RRT.mean(axis=1), 'RRT Std' : RRT.std(axis=1),\n",
    "                            'RPT Mean' : RPT.mean(axis=1), 'RPT Std' : RPT.std(axis=1)})\n",
    "MeanStdData.to_csv('AvgStdData.csv')\n",
    "MeanStdData.head()"
   ]
  },
  {
   "attachments": {},
   "cell_type": "markdown",
   "metadata": {},
   "source": [
    "BUILDING MODELS FROM HERE"
   ]
  },
  {
   "cell_type": "code",
   "execution_count": null,
   "metadata": {},
   "outputs": [],
   "source": []
  }
 ],
 "metadata": {
  "kernelspec": {
   "display_name": "Python 3",
   "language": "python",
   "name": "python3"
  },
  "language_info": {
   "codemirror_mode": {
    "name": "ipython",
    "version": 3
   },
   "file_extension": ".py",
   "mimetype": "text/x-python",
   "name": "python",
   "nbconvert_exporter": "python",
   "pygments_lexer": "ipython3",
   "version": "3.10.6"
  },
  "orig_nbformat": 4,
  "vscode": {
   "interpreter": {
    "hash": "31f2aee4e71d21fbe5cf8b01ff0e069b9275f58929596ceb00d14d90e3e16cd6"
   }
  }
 },
 "nbformat": 4,
 "nbformat_minor": 2
}
